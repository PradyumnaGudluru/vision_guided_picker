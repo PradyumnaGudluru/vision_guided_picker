{
 "cells": [
  {
   "cell_type": "code",
   "execution_count": 426,
   "id": "d9d580db",
   "metadata": {},
   "outputs": [],
   "source": [
    "import numpy as np\n",
    "import matplotlib.pyplot as plt\n",
    "\n",
    "import rtree\n",
    "\n",
    "%matplotlib inline\n",
    "\n",
    "p = rtree.index.Property()\n",
    "p.dimension = 3\n",
    "idx = rtree.Index(properties=p)\n",
    "\n",
    "# idx.insert(0, (0, 0, 0, 0, 0, 0))\n",
    "# idx.insert(1, (1, 1, 1, 1, 1, 1))\n",
    "# idx.insert(2, (2, 2, 2, 2, 2, 2))"
   ]
  },
  {
   "cell_type": "code",
   "execution_count": 427,
   "id": "197a3281",
   "metadata": {},
   "outputs": [],
   "source": [
    "class Node:\n",
    "    def __init__(self, p, prev=None, dist=0):\n",
    "        self.point = p\n",
    "        self.prev = prev\n",
    "        self.dist = dist\n",
    "        \n",
    "class Tree:\n",
    "    def __init__(self):\n",
    "        self.goal = np.asarray([0.5, 1])\n",
    "        self.lower_bound = np.asarray((-5, -5))\n",
    "        self.upper_bound = np.asarray((5, 5))\n",
    "        \n",
    "#         p = rtree.index.Property()\n",
    "#         p.dimension = 3\n",
    "#         self.idx = rtree.Index(properties=p)\n",
    "        self.idx = rtree.Index()\n",
    "        \n",
    "        self.points = dict()\n",
    "        \n",
    "        self.p_idx = 0\n",
    "        self.insert_node(1, 1)\n",
    "    \n",
    "    def insert_node(self, x, v, prev=None, dist=0):\n",
    "        self.idx.insert(self.p_idx, (x, v, x, v))\n",
    "        new_node = Node(np.asarray([x, v]), prev, dist)\n",
    "        self.points[self.p_idx] = new_node\n",
    "        self.p_idx += 1\n",
    "        \n",
    "        return new_node\n",
    "        \n",
    "    def sample(self):\n",
    "        # random point\n",
    "        rx, rv = np.random.rand(2) * (self.upper_bound - self.lower_bound) + self.lower_bound\n",
    "        \n",
    "        # nearest node `nn`\n",
    "        nn_idx = self.idx.nearest([rx, rv, rx, rv])\n",
    "        nn = self.points[next(nn_idx)]\n",
    "        x, v = nn.point\n",
    "        \n",
    "        a = (np.random.rand() - 0.5) * 2\n",
    "        dt = 0.1\n",
    "        next_point = np.asarray((x + v * dt + dt**2 * a / 2, v + a * dt))\n",
    "        \n",
    "        # if new point is out of bounds\n",
    "        if np.max(np.abs(next_point)) > 5:\n",
    "            return None\n",
    "\n",
    "        new_dist = nn.dist + np.linalg.norm(next_point - nn.point)\n",
    "        new_node = self.insert_node(*next_point, nn, new_dist)\n",
    "        \n",
    "        nx, nv = new_node.point\n",
    "        neighbors = self.idx.intersection([nx - 0.5, nv - 0.25, nx + 0.5, nv + 0.25])\n",
    "        \n",
    "        if np.linalg.norm(next_point - self.goal) < 0.2:\n",
    "            return new_node\n",
    "        "
   ]
  },
  {
   "cell_type": "code",
   "execution_count": 428,
   "id": "3443dd8f",
   "metadata": {},
   "outputs": [
    {
     "data": {
      "text/plain": [
       "(-5.0, 5.0)"
      ]
     },
     "execution_count": 428,
     "metadata": {},
     "output_type": "execute_result"
    },
    {
     "data": {
      "image/png": "[encoded data removed]",
      "text/plain": [
       "<Figure size 432x432 with 1 Axes>"
      ]
     },
     "metadata": {
      "needs_background": "light"
     },
     "output_type": "display_data"
    }
   ],
   "source": [
    "tree = Tree()\n",
    "\n",
    "goal_node = None\n",
    "\n",
    "for _ in range(10000):\n",
    "    goal_node = tree.sample()\n",
    "    if goal_node:\n",
    "        break\n",
    "\n",
    "# print(len(tree.points))\n",
    "# print(goal_node)\n",
    "\n",
    "fig, ax = plt.subplots(figsize=(6, 6))\n",
    "ax.set_aspect('equal')\n",
    "\n",
    "\n",
    "v = goal_node\n",
    "while v:\n",
    "    p = v.prev\n",
    "    if p is None:\n",
    "        break\n",
    "    ax.plot([p.point[0], v.point[0]], [p.point[1], v.point[1]], '-', c='k')\n",
    "    v = p\n",
    "\n",
    "ax.set_xlabel('position')\n",
    "ax.set_ylabel('velocity')\n",
    "\n",
    "ax.set_xlim(-5, 5)\n",
    "ax.set_ylim(-5, 5)"
   ]
  },
  {
   "cell_type": "markdown",
   "id": "d608ef56",
   "metadata": {},
   "source": [
    "## Dynamic constraints of a point particle in 2 dimensioanl space"
   ]
  },
  {
   "cell_type": "code",
   "execution_count": 429,
   "id": "033b6145",
   "metadata": {},
   "outputs": [
    {
     "name": "stdout",
     "output_type": "stream",
     "text": [
      "0090000, min_dist: 0.5232206602249602\n",
      "finished, min_dist: 0.5232206602249602\n"
     ]
    }
   ],
   "source": [
    "class PlaneTree:\n",
    "    def __init__(self, start, goal, bounds):\n",
    "        self.goal = goal\n",
    "        self.lower_bound = bounds[0::2]\n",
    "        self.upper_bound = bounds[1::2]\n",
    "        \n",
    "        p = rtree.index.Property()\n",
    "        p.dimension = 4\n",
    "        self.idx = rtree.Index(properties=p)\n",
    "        \n",
    "        self.points = dict()\n",
    "        self.p_idx = 0\n",
    "        \n",
    "        self.insert_node(*start)\n",
    "        self.min_dist = float('inf')\n",
    "    \n",
    "    def insert_node(self, x, y, vx, vy, prev=None, dist=0):\n",
    "        self.idx.insert(self.p_idx, (x, y, vx, vy, x, y, vx, vy))\n",
    "        \n",
    "        nn = Node(np.asarray([x, y, vx, vy]), prev, dist)\n",
    "        self.points[self.p_idx] = nn\n",
    "        self.p_idx += 1\n",
    "        \n",
    "        return nn\n",
    "    \n",
    "    def sample(self):\n",
    "        # random point\n",
    "        rx, ry, rxv, ryv = np.random.rand(4) * (self.upper_bound - self.lower_bound) + self.lower_bound\n",
    "        \n",
    "        # nearest node `nn`\n",
    "        nn_idx = self.idx.nearest([rx, ry, rxv, ryv, rx, ry, rxv, ryv])\n",
    "        nn = self.points[next(nn_idx)]\n",
    "        x, y, vx, vy = nn.point\n",
    "        \n",
    "        dt = 0.2\n",
    "        a = (np.random.randn(2) - 0.5) * 2\n",
    "        new_x, new_y = nn.point[:2] + nn.point[2:] * dt + a * dt**2 / 2\n",
    "        new_xv, new_yv = nn.point[2:] + a * dt\n",
    "        new_point = np.asarray([new_x, new_y, new_xv, new_yv])\n",
    "        \n",
    "        if any(new_point < self.lower_bound) or any(new_point > self.upper_bound):\n",
    "            return None\n",
    "        \n",
    "        new_node = self.insert_node(*new_point, nn)\n",
    "        \n",
    "        dist = np.linalg.norm(new_point - self.goal)\n",
    "        \n",
    "        if dist < self.min_dist:\n",
    "            self.min_dist = dist\n",
    "            if dist < 0.2:\n",
    "                return new_node\n",
    "        \n",
    "        return None\n",
    "\n",
    "tree = PlaneTree(np.asarray([0, -1, 1, 0]),\n",
    "                 np.asarray([0, 1, 1, 0]),\n",
    "                 np.asarray([-5, 5, -5, 5, -5, 5, -5, 5]))\n",
    "\n",
    "goal_node = None\n",
    "\n",
    "for i in range(100000):\n",
    "    if (i % 10000) == 0:\n",
    "        print(f'{i:07d}, min_dist: {tree.min_dist}', end='\\r')\n",
    "    goal_node = tree.sample()\n",
    "\n",
    "print('')\n",
    "print(f'finished, min_dist: {tree.min_dist}')"
   ]
  },
  {
   "cell_type": "code",
   "execution_count": 430,
   "id": "bbc302c4",
   "metadata": {},
   "outputs": [
    {
     "data": {
      "text/plain": [
       "87814"
      ]
     },
     "execution_count": 430,
     "metadata": {},
     "output_type": "execute_result"
    }
   ],
   "source": [
    "len(tree.points)"
   ]
  },
  {
   "cell_type": "code",
   "execution_count": 453,
   "id": "ef37a029",
   "metadata": {},
   "outputs": [
    {
     "name": "stdout",
     "output_type": "stream",
     "text": [
      "0400000, min_dist: 0.4775850640912286\n",
      "finished, min_dist: 0.38234696017008146\n"
     ]
    }
   ],
   "source": [
    "goal_node = None\n",
    "\n",
    "for i in range(1000000):\n",
    "    if (i % 100000) == 0:\n",
    "        print(f'{i:07d}, min_dist: {tree.min_dist}', end='\\r')\n",
    "    goal_node = tree.sample()\n",
    "    if goal_node:\n",
    "        break\n",
    "\n",
    "print('')\n",
    "print(f'finished, min_dist: {tree.min_dist}')"
   ]
  },
  {
   "cell_type": "code",
   "execution_count": 454,
   "id": "ce39e894",
   "metadata": {},
   "outputs": [
    {
     "name": "stdout",
     "output_type": "stream",
     "text": [
      "[ 0.25266126 10.07743421  6.22792033]\n"
     ]
    },
    {
     "data": {
      "text/plain": [
       "[<matplotlib.lines.Line2D at 0x7f941ffc58b0>]"
      ]
     },
     "execution_count": 454,
     "metadata": {},
     "output_type": "execute_result"
    },
    {
     "data": {
      "image/png": "[encoded data removed]",
      "text/plain": [
       "<Figure size 432x288 with 1 Axes>"
      ]
     },
     "metadata": {
      "needs_background": "light"
     },
     "output_type": "display_data"
    }
   ],
   "source": [
    "v = goal_node\n",
    "\n",
    "print(goal_node.point)\n",
    "\n",
    "xs = []\n",
    "ys = []\n",
    "\n",
    "while v:\n",
    "    xs.append(v.point[0])\n",
    "    ys.append(v.point[1])\n",
    "    v = v.prev\n",
    "\n",
    "fig, ax = plt.subplots()\n",
    "ax.set_aspect('equal')\n",
    "\n",
    "ax.plot(xs, ys)"
   ]
  },
  {
   "cell_type": "markdown",
   "id": "54c88894",
   "metadata": {},
   "source": [
    "## RRT for two wheel steering vehicle (Dubins car)\n",
    "\n",
    "- it's a nonholonomic case"
   ]
  },
  {
   "cell_type": "code",
   "execution_count": 440,
   "id": "94c13985",
   "metadata": {},
   "outputs": [
    {
     "name": "stdout",
     "output_type": "stream",
     "text": [
      "0090000/100000, min_dist: 0.8354285918126474\n",
      "min_dist 0.8354285918126474\n"
     ]
    }
   ],
   "source": [
    "class SteerTree:\n",
    "    def __init__(self):\n",
    "        self.goal = np.asarray([[0, 10, 0],\n",
    "                                [0, 10, np.pi * 2],\n",
    "                                [0, 10, -np.pi * 2]])\n",
    "        self.lower_bound = np.asarray([-20, -20, 0])\n",
    "        self.upper_bound = np.asarray([20, 20, np.pi * 2])\n",
    "        \n",
    "        p = rtree.index.Property()\n",
    "        p.dimension = 3\n",
    "        self.idx = rtree.Index(properties=p)\n",
    "        \n",
    "        self.points = dict()\n",
    "        self.p_idx = 0\n",
    "        \n",
    "        self.insert_node(0, -10, 0)\n",
    "        self.min_dist = float('inf')\n",
    "        self.min_dist_node = None\n",
    "    \n",
    "    def insert_node(self, x, y, th, prev=None, dist=0):\n",
    "        self.idx.insert(self.p_idx, (x, y, th, x, y, th))\n",
    "        \n",
    "        nn = Node(np.asarray([x, y, th]), prev, dist)\n",
    "        self.points[self.p_idx] = nn\n",
    "        self.p_idx += 1\n",
    "        \n",
    "        return nn\n",
    "        \n",
    "    def sample(self):\n",
    "        # random point\n",
    "        rx, rv, rth = np.random.rand(3) * (self.upper_bound - self.lower_bound) + self.lower_bound\n",
    "        \n",
    "        # nearest node `nn`\n",
    "        nn_idx = self.idx.nearest([rx, rv, rth, rx, rv, rth])\n",
    "        nn = self.points[next(nn_idx)]\n",
    "        x, y, th = nn.point\n",
    "        \n",
    "        # 0.5 radian / 0.5 meter is the maximum change of direction\n",
    "        # that's the curvature of 1\n",
    "        ds = 0.5\n",
    "        new_th = (th + (np.random.rand() - 0.5) * 0.5)\n",
    "        new_x, new_y = x + ds * np.cos((th + new_th) / 2), y + ds * np.sin((th + new_th)/2)\n",
    "        new_th = new_th % (np.pi * 2)\n",
    "        new_point = np.asarray([new_x, new_y, new_th])\n",
    "        \n",
    "        if np.max(np.abs(new_point[:2])) > 30:\n",
    "            return None\n",
    "\n",
    "        new_node = self.insert_node(*new_point, nn)\n",
    "        \n",
    "        dist = np.min(np.linalg.norm((self.goal - new_point) * np.asarray([1, 1, 5]), axis=1))\n",
    "        if dist < self.min_dist:\n",
    "            self.min_dist = dist\n",
    "            self.min_dist_node = new_node\n",
    "            if dist < 0.5:\n",
    "                return new_node\n",
    "        \n",
    "        return None\n",
    "        \n",
    "\n",
    "tree = SteerTree()\n",
    "\n",
    "goal_node = None\n",
    "max_iter = 100000\n",
    "\n",
    "for i in range(max_iter):\n",
    "    goal_node = tree.sample()\n",
    "    if (i % 10000 == 0):\n",
    "        print(f'{i:07d}/{max_iter}, min_dist: {tree.min_dist}', end='\\r')\n",
    "    if goal_node:\n",
    "        break\n",
    "\n",
    "# print(goal_node, goal_node.prev)\n",
    "print('')\n",
    "print('min_dist', tree.min_dist)\n",
    "\n",
    "\n",
    "# print(len(tree.points.items()))\n",
    "# for k, v in tree.points.items():\n",
    "#     p = v.prev\n",
    "#     if p is None:\n",
    "#         continue\n",
    "    \n",
    "#     ax.plot([p.point[0], v.point[0]], [p.point[1], v.point[1]])\n"
   ]
  },
  {
   "cell_type": "markdown",
   "id": "ff25f855",
   "metadata": {},
   "source": [
    "### more samples"
   ]
  },
  {
   "cell_type": "code",
   "execution_count": 443,
   "id": "ec918322",
   "metadata": {},
   "outputs": [
    {
     "name": "stdout",
     "output_type": "stream",
     "text": [
      "0060000/100000, min_dist: 0.5610665785561862\r"
     ]
    }
   ],
   "source": [
    "goal_node = None\n",
    "max_iter = 100000\n",
    "\n",
    "for i in range(max_iter):\n",
    "    goal_node = tree.sample()\n",
    "    if (i % 10000 == 0):\n",
    "        print(f'{i:07d}/{max_iter}, min_dist: {tree.min_dist}', end='\\r')\n",
    "    if goal_node:\n",
    "        break"
   ]
  },
  {
   "cell_type": "code",
   "execution_count": 452,
   "id": "9c14682a",
   "metadata": {},
   "outputs": [
    {
     "name": "stdout",
     "output_type": "stream",
     "text": [
      "0.4775850640912286\n"
     ]
    },
    {
     "data": {
      "text/plain": [
       "(-18.0, 23.0)"
      ]
     },
     "execution_count": 452,
     "metadata": {},
     "output_type": "execute_result"
    },
    {
     "data": {
      "image/png": "[encoded data removed]",
      "text/plain": [
       "<Figure size 432x432 with 1 Axes>"
      ]
     },
     "metadata": {
      "needs_background": "light"
     },
     "output_type": "display_data"
    }
   ],
   "source": [
    "# print(tree.min_dist, goal_node.point)\n",
    "\n",
    "fig, ax = plt.subplots(figsize=(6, 6))\n",
    "ax.set_aspect('equal')\n",
    "\n",
    "print(tree.min_dist)\n",
    "v = tree.min_dist_node\n",
    "\n",
    "while v:\n",
    "    p = v.prev\n",
    "    if p is None:\n",
    "        break\n",
    "    ax.plot([p.point[0], v.point[0]], [p.point[1], v.point[1]], '-', c='k')\n",
    "    v = p\n",
    "\n",
    "ax.set_xlim(-18, 23)\n",
    "ax.set_ylim(-18, 23)"
   ]
  },
  {
   "cell_type": "markdown",
   "id": "cf6543bc",
   "metadata": {},
   "source": [
    "### minimum RRT paths for 10 cases"
   ]
  },
  {
   "cell_type": "code",
   "execution_count": 446,
   "id": "43ec230f",
   "metadata": {},
   "outputs": [
    {
     "name": "stdout",
     "output_type": "stream",
     "text": [
      " 110000/1000000, min_dist: 1.2705994508318763\n",
      "min_dist 0.34320342466849113\n",
      "0 97\n",
      " 560000/1000000, min_dist: 0.5340316406481372\n",
      "min_dist 0.35144599582058883\n",
      "1 101\n",
      " 110000/1000000, min_dist: 1.1658571945223675\n",
      "min_dist 0.2786484615461695\n",
      "2 54\n",
      " 360000/1000000, min_dist: 0.5641539638449734\n",
      "min_dist 0.460444898920453\n",
      "3 135\n",
      " 210000/1000000, min_dist: 0.7535048313548258\n",
      "min_dist 0.4310395702307139\n",
      "4 122\n",
      " 170000/1000000, min_dist: 0.5230696199345278\n",
      "min_dist 0.08919089880662004\n",
      "5 93\n",
      " 250000/1000000, min_dist: 0.6861535799495886\n",
      "min_dist 0.35892642353650334\n",
      "6 129\n",
      " 260000/1000000, min_dist: 0.7696197371265845\n",
      "min_dist 0.3704644419788744\n",
      "7 101\n",
      " 460000/1000000, min_dist: 0.5709190780228791\n",
      "min_dist 0.47261625699883053\n",
      "8 140\n",
      " 330000/1000000, min_dist: 0.7179441393387666\n",
      "min_dist 0.4775850640912286\n",
      "9 134\n"
     ]
    }
   ],
   "source": [
    "paths = []\n",
    "\n",
    "for path_idx in range(10):\n",
    "    tree = SteerTree()\n",
    "\n",
    "    goal_node = None\n",
    "    max_iter = 1000000\n",
    "\n",
    "    for i in range(max_iter):\n",
    "        goal_node = tree.sample()\n",
    "        if (i % 10000 == 0):\n",
    "            print(f'{i:7d}/{max_iter}, min_dist: {tree.min_dist}', end='\\r')\n",
    "        if goal_node:\n",
    "            break\n",
    "\n",
    "    # print(goal_node, goal_node.prev)\n",
    "    print('')\n",
    "    print('min_dist', tree.min_dist)\n",
    "    \n",
    "    if goal_node:\n",
    "        v = goal_node\n",
    "\n",
    "        path = []\n",
    "        \n",
    "        while v:\n",
    "            path.append(v.point)\n",
    "            v = v.prev\n",
    "        \n",
    "        paths.append(path)\n",
    "        print(path_idx, len(path))\n",
    "    "
   ]
  },
  {
   "cell_type": "code",
   "execution_count": 449,
   "id": "84156d93",
   "metadata": {},
   "outputs": [
    {
     "data": {
      "text/plain": [
       "(-16.0, 25.0)"
      ]
     },
     "execution_count": 449,
     "metadata": {},
     "output_type": "execute_result"
    },
    {
     "data": {
      "image/png": "[encoded data removed]",
      "text/plain": [
       "<Figure size 576x576 with 1 Axes>"
      ]
     },
     "metadata": {
      "needs_background": "light"
     },
     "output_type": "display_data"
    }
   ],
   "source": [
    "from matplotlib.patches import Circle\n",
    "\n",
    "\n",
    "fig, ax = plt.subplots(figsize=(8, 8))\n",
    "\n",
    "ax.set_aspect('equal')\n",
    "\n",
    "for path in paths:\n",
    "    ax.plot([x[0] for x in path], [x[1] for x in path])\n",
    "\n",
    "\n",
    "c = Circle((0, 10), radius=1, ec='k', fc='None', linestyle='--', lw=2)\n",
    "ax.add_patch(c)\n",
    "\n",
    "ax.set_xlim(-18, 23)\n",
    "ax.set_ylim(-16, 25)"
   ]
  },
  {
   "cell_type": "code",
   "execution_count": 423,
   "id": "04cab97c",
   "metadata": {},
   "outputs": [
    {
     "name": "stdout",
     "output_type": "stream",
     "text": [
      "    10\n"
     ]
    }
   ],
   "source": [
    "print(f'{10:6d}')"
   ]
  },
  {
   "cell_type": "code",
   "execution_count": 412,
   "id": "f15a0fb8",
   "metadata": {},
   "outputs": [],
   "source": [
    "%load_ext cython"
   ]
  },
  {
   "cell_type": "code",
   "execution_count": 419,
   "id": "d88342dc",
   "metadata": {},
   "outputs": [],
   "source": [
    "%%cython\n",
    "def myfunc():\n",
    "    cdef int i\n",
    "    cdef long long j\n",
    "    \n",
    "    j = 0\n",
    "    \n",
    "    for i in range(1000000):\n",
    "        j += 1\n",
    "    \n",
    "    return j"
   ]
  },
  {
   "cell_type": "code",
   "execution_count": 420,
   "id": "d2eb6d6d",
   "metadata": {},
   "outputs": [
    {
     "name": "stdout",
     "output_type": "stream",
     "text": [
      "27 ns ± 0.601 ns per loop (mean ± std. dev. of 7 runs, 10000000 loops each)\n"
     ]
    }
   ],
   "source": [
    "%timeit myfunc()"
   ]
  },
  {
   "cell_type": "code",
   "execution_count": 421,
   "id": "c09392fd",
   "metadata": {},
   "outputs": [],
   "source": [
    "def slow_myfunc():\n",
    "    j = 0\n",
    "    for i in range(1000000):\n",
    "        j += 1\n",
    "    return j"
   ]
  },
  {
   "cell_type": "code",
   "execution_count": 422,
   "id": "91f3ec57",
   "metadata": {},
   "outputs": [
    {
     "name": "stdout",
     "output_type": "stream",
     "text": [
      "31.7 ms ± 593 µs per loop (mean ± std. dev. of 7 runs, 10 loops each)\n"
     ]
    }
   ],
   "source": [
    "%timeit slow_myfunc()"
   ]
  },
  {
   "cell_type": "markdown",
   "id": "bdfa0466",
   "metadata": {},
   "source": [
    "## Bidirection RRT for a Dubins car"
   ]
  },
  {
   "cell_type": "code",
   "execution_count": null,
   "id": "750c0ac5",
   "metadata": {},
   "outputs": [],
   "source": [
    "class SteerTree:\n",
    "    def __init__(self, start, end):\n",
    "        dth = np.zeros(3, 3)\n",
    "        dth[:, -1] = [-np.pi * 2, 0, np.pi *2]\n",
    "        self.start = start + dth\n",
    "        self.end = end + dth\n",
    "        \n",
    "        self.lower_bound = np.asarray([-20, -20, 0])\n",
    "        self.upper_bound = np.asarray([20, 20, np.pi * 2])\n",
    "        \n",
    "        p = rtree.index.Property()\n",
    "        p.dimension = 3\n",
    "        self.idx = [rtree.Index(properties=p), rtree.Index(properties.p)]\n",
    "                \n",
    "        self.points = [dict(), dict()]\n",
    "        self.p_idx = [0, 0]\n",
    "        \n",
    "        self.insert_node(0, 0, -10, 0)\n",
    "        \n",
    "        self.min_dist = [float('inf'), float('inf')]\n",
    "        self.sel_idx = 0\n",
    "    \n",
    "    def insert_node(self, idx, x, y, th, prev=None, dist=0):\n",
    "        self.idx[idx].insert(self.p_idx, (x, y, th, x, y, th))\n",
    "        \n",
    "        nn = Node(np.asarray([x, y, th]), prev, dist)\n",
    "        self.points[idx][self.p_idx] = nn\n",
    "        self.p_idx[idx] += 1\n",
    "        \n",
    "        return nn\n",
    "        \n",
    "    def sample(self):\n",
    "        idx = self.idx[self.sel_idx]\n",
    "        points = self.points[self.sel_idx]\n",
    "        \n",
    "        \n",
    "        # random point\n",
    "        rx, rv, rth = np.random.rand(3) * (self.upper_bound - self.lower_bound) + self.lower_bound\n",
    "        \n",
    "        # nearest node `nn`\n",
    "        nn_idx = idx.nearest([rx, rv, rth, rx, rv, rth])\n",
    "        nn = points[next(nn_idx)]\n",
    "        x, y, th = nn.point\n",
    "        \n",
    "        ds = 0.5\n",
    "        new_th = (th + (np.random.rand() - 0.5))\n",
    "        new_x, new_y = x + ds * np.cos((th + new_th) / 2), y + ds * np.sin((th + new_th)/2)\n",
    "        new_th = new_th % (np.pi * 2)\n",
    "        new_point = np.asarray([new_x, new_y, new_th])\n",
    "        \n",
    "        if np.max(np.abs(new_point[:2])) > 30:\n",
    "            return None\n",
    "\n",
    "        new_node = insert_node(*new_point, nn)\n",
    "        \n",
    "        dist = np.min(np.linalg.norm((self.goal - new_point) * np.asarray([1, 1, 5]), axis=1))\n",
    "        if dist < self.min_dist:\n",
    "            self.min_dist = dist\n",
    "            if dist < 0.5:\n",
    "                return new_node\n",
    "        \n",
    "        return None"
   ]
  }
 ],
 "metadata": {
  "kernelspec": {
   "display_name": "Python 3 (ipykernel)",
   "language": "python",
   "name": "python3"
  },
  "language_info": {
   "codemirror_mode": {
    "name": "ipython",
    "version": 3
   },
   "file_extension": ".py",
   "mimetype": "text/x-python",
   "name": "python",
   "nbconvert_exporter": "python",
   "pygments_lexer": "ipython3",
   "version": "3.8.10"
  }
 },
 "nbformat": 4,
 "nbformat_minor": 5
}
