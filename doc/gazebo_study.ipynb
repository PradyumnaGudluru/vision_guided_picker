{
 "cells": [
  {
   "cell_type": "markdown",
   "metadata": {
    "collapsed": true,
    "pycharm": {
     "name": "#%% md\n"
    }
   },
   "source": [
    "### `gazebo` plugin\n",
    "- you may need to install `libgazebo11-dev` on Ubuntu 20.04.\n",
    "- Is it that a plugin is attached to a model in a `sdf` file?\n",
    "\n",
    "```xml\n",
    "    <!-- A testing model that includes the Velodyne sensor model -->\n",
    "    <model name=\"my_velodyne\">\n",
    "      <include>\n",
    "        <uri>model://velodyne_hdl32</uri>\n",
    "      </include>\n",
    "\n",
    "      <!-- Attach the plugin to this model -->\n",
    "      <plugin name=\"velodyne_control\" filename=\"libvelodyne_plugin.so\"/>\n",
    "    </model>\n",
    "```\n",
    "- a plugin library should be in `PATH`? or how `gazebo` can locate it?\n",
    "\n",
    "#### how `gazebo` plugin connects to ros\n",
    "- you may need to install `libroscpp-dev` on Ubuntu 20.04.\n",
    "- it's just a `gazebo` plugin which creates a `ROS` node.\n",
    "\n",
    "### ros control\n",
    "- What I can do with `ros-noetic-ros-control` package?\n",
    "    - provide a generic `gazebo` plugin for a robot?\n",
    "- `<robot/>` tag in a `xacro` (or `urdf`) file corresponds to `<model/>` tag in a `sdf` file?\n",
    "- How can `gazebo` locate `libgazebo-ros-control.so`?\n",
    "\n",
    "### controller manager\n",
    "- what is this?\n",
    "- there are different things that are called controller manager\n",
    "    - one is a `ROS` service that loads, unloads, et al. controllers.\n",
    "        - I think a `gazebo-ros-control` plugin creates this `ROS` service\n",
    "    - ROS package `controller_manager` and its executable `controller_manager`.\n",
    "        - you can load, unload, et al. using `rosrun controller_manager controller_manager load ---`\n",
    "        - real works are performed by `gazebo` plugin I think\n",
    "\n",
    "`sudo apt install joint-state-controller`\n",
    "ros-noetic-gazebo-ros-control-select-joints\n",
    "`ros-noetic-rqt-controller-manager`"
   ]
  }
 ],
 "metadata": {
  "kernelspec": {
   "display_name": "Python 3",
   "language": "python",
   "name": "python3"
  },
  "language_info": {
   "codemirror_mode": {
    "name": "ipython",
    "version": 2
   },
   "file_extension": ".py",
   "mimetype": "text/x-python",
   "name": "python",
   "nbconvert_exporter": "python",
   "pygments_lexer": "ipython2",
   "version": "2.7.6"
  }
 },
 "nbformat": 4,
 "nbformat_minor": 0
}