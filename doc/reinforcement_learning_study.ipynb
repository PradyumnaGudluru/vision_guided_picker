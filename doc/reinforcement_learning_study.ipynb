{
 "cells": [
  {
   "cell_type": "markdown",
   "metadata": {
    "pycharm": {
     "name": "#%% md\n"
    }
   },
   "source": [
    "### OpenAI gym in Webots\n",
    "- An OpenAI Gym expects that `env.step(action)` progresses an environment by one unit of time\n",
    "    - I think this unit of time is determined by a gym environment design\n",
    "        - the time unit is your choice when you design your own gym environment\n",
    "- When you call `Supervisor.step(time_step)` inside a supervisor controller, the Webot physics world evolves by `time_step`.\n",
    "    - You are supposed to call this as soon as other things are done."
   ]
  },
  {
   "cell_type": "code",
   "execution_count": null,
   "metadata": {
    "pycharm": {
     "name": "#%%\n"
    }
   },
   "outputs": [],
   "source": [
    "import numpy as np\n",
    "\n",
    "from controller import Supervisor\n",
    "import gym\n",
    "\n",
    "\n",
    "class MyEnvironment(gym.Env, Supervisor):\n",
    "    def __init__(self):\n",
    "        super().__init__()\n",
    "        self.__time_step = 32\n",
    "\n",
    "        # you might want to get devices and enable them\n",
    "\n",
    "    def reset(self):\n",
    "        # Reset the simulation\n",
    "        self.simulationResetPhysics()\n",
    "        self.simulationReset()\n",
    "\n",
    "        # you need to initialize devices here too\n",
    "        super().step(self.__time_step)\n",
    "\n",
    "    def step(self, action):\n",
    "        # apply action to the robot here!\n",
    "        # change motor torques, speeds, or position\n",
    "        \n",
    "        # both of gym.Env and Supervisor have 'step'\n",
    "        # Since Supervisor follows gym.Env, MRO resolves this step to Supervisor.step\n",
    "        super().step(self.__time_step)\n",
    "\n",
    "        # interpret the environment\n",
    "        # reading sensor values\n",
    "        # check episode terminating conditions\n",
    "        state = [0] * 12\n",
    "        done = False\n",
    "        reward = 0\n",
    "\n",
    "        return np.asarray(state), reward, done, {}\n",
    "\n",
    "    def render(self, mode='human'):\n",
    "        \"\"\"\n",
    "        Do you want to render something else?\n",
    "        \"\"\"\n",
    "        pass"
   ]
  },
  {
   "cell_type": "markdown",
   "metadata": {
    "pycharm": {
     "name": "#%% md\n"
    }
   },
   "source": [
    "[### Stable Baselines3](https://github.com/DLR-RM/stable-baselines3)\n",
    "- it provides implementations of popular RL algorithms (many in `stable_baselines3` package)\n",
    "    - you can choose the policy implementation\n",
    "        - MlpPolicy (Multi-Layer Perceptrons, 2 layers of 64)\n",
    "        - CnnPolicy (the nature CNN)\n",
    "        - and more\n",
    "- its model (or agent) take a gym environment.\n",
    "- I think `model.learn` calls `env.step` repeatedly while it learn."
   ]
  },
  {
   "cell_type": "code",
   "execution_count": null,
   "metadata": {
    "pycharm": {
     "name": "#%%\n"
    }
   },
   "outputs": [],
   "source": [
    "from stable_baselines3 import DQN\n",
    "\n",
    "env = MyEnvironment()\n",
    "model = DQN(\"MlpPolicy\", env)\n",
    "model.learn(total_timesteps=2500)\n",
    "model.save('my_learning_model')\n",
    "\n",
    "del model\n",
    "model = DQN.load('my_learning_model')\n"
   ]
  },
  {
   "cell_type": "markdown",
   "metadata": {
    "pycharm": {
     "name": "#%% md\n"
    }
   },
   "source": [
    "### [Universal Value Function Approximators (UVFA) (2015)](https://proceedings.mlr.press/v37/schaul15.html)\n",
    "- extension of `DQN` with more than one goal\n",
    "    - an action-value function in `DQN` is a DNN\n",
    "- Multi-goal RL\n",
    "    - More than one goal $g \\in \\mathcal{G}$ and corresponding reward functions $r_g : \\mathcal{S} \\times \\mathcal{A} \\rightarrow \\mathbb{R}$.\n",
    "        - or $r_g(s_t, a_t) = r(s_t, a_t, g)$ in this form\n",
    "        - should it be $r_{t+1} = r(s_t, a_t, s_{t+1}, g)$ more generally?\n",
    "    - assume that the agent is to achieve $f_g(s) = 1$ for a given goal $g$.\n",
    "    - assume that it is easy to find a mapping $m : \\mathcal{S} \\rightarrow \\mathcal{G}$ such that $f_{m(s)}(s) = 1$.\n",
    "        - you need this for replaying with modified goals $m(s)$\n",
    "        - for a robotic arm reach environment, it means we have a forward kinematics\n",
    "            - $s$ are joint angles, $g = m(s)$ is an end-effector pose\n",
    "- The goal stays fixed for a whole episode\n",
    "- An agent has access to the current goal too.\n",
    "    - A policy $\\pi : \\mathcal{S} \\times \\mathcal{G} \\rightarrow \\mathcal{A}$\n",
    "- $Q$-function (or action-value function?) $Q^{\\pi}(s_t, a_t, g) = \\mathbb{E}\\left[ R_t | s_t, a_t, g \\right]$\n",
    "    - note that $R_t = r_{t+1} + \\gamma r_{t+2} + \\gamma^2 r_{t+3} + \\cdots$.\n",
    "\n",
    "<br />\n",
    "\n",
    "### [Hindsight Experience Replay (HER) (2018)](https://arxiv.org/pdf/1707.01495.pdf)\n",
    "- works with an off-policy RL algorithm\n",
    "- replays episodes with a modified goal (, which is different from the original goal)\n",
    "- replay strategies $G = \\mathbb{S}(\\text{current episode})$ (choice for the modified goals)\n",
    "    - `final` the final state of that episode for any $s_t$ in that episode\n",
    "        - $\\mathbb{S}(s_1, \\cdots, s_T) = m(s_T)$\n",
    "    - `future` $k$ random states from the same episode which comes after that transition?\n",
    "        - random $k$ samples from $\\left\\{ s_{t+1}, \\cdots, s_T \\right\\}$?\n",
    "    - `episode` $k$ random states from the same episode\n",
    "        - random $k$ samples from $\\left\\{ s_1, \\cdots, s_T \\right\\}$?\n",
    "    - `random` $k$ random states encountered so far in the whole training procedure\n",
    "        - I guess the number of encountered states would be enormous. How can track all these states?\n",
    "- initial states shoud be random? is it critical to initialize the initial state random?\n",
    "\n",
    "<br />\n",
    "\n",
    "### OpenAI goal-based gym\n",
    "- ‘FetchReach-v0’ environment requires `mujoco-py` and MuJoCo\n",
    "- `mujoco-py` requires cuda sdk?\n",
    "- it may require `sudo apt-get install libosmesa6-dev` and `sudo apt-get install patchelf`\n"
   ]
  },
  {
   "cell_type": "markdown",
   "metadata": {},
   "source": [
    "#### exploration\n",
    "- in the action space\n",
    "    - $\\mathbf{a}_t = \\mu(s_t; \\theta_{\\mu}) + \\epsilon_t$, where $\\mu(s_t;\\theta_{\\mu}) $ is a controller output and $\\epsilon_t \\sim \\mathcal{N}(0, \\sigma^2) $\n",
    "- in the parameter space\n",
    "    - $\\mathbf{a}_t = \\mu(s_t; \\theta_{\\mu} + \\epsilon)$, where $\\epsilon \\sim \\mathcal{N}(0, \\sigma^2)$.\n",
    "- state dependent exloration (**SDE**)\n",
    "    - $\\mathbf{a}_t = \\mu(s_t; \\theta_{\\mu}) + \\epsilon(s_t, \\theta_{\\epsilon})$, where $\\theta_{\\epsilon} \\sim \\mathcal{N}(0, \\sigma^2)$\n",
    "    - $\\theta_{\\epsilon}$ remains the same for an episode."
   ]
  },
  {
   "cell_type": "markdown",
   "metadata": {
    "pycharm": {
     "name": "#%% md\n"
    }
   },
   "source": [
    "#### stable-baselines3\n",
    "- some requires `tensorflow==1.14` but it seems like python3.8 does not work with `tensorflow==1.14`\n",
    "- stable-baselines3 works with `python3.7+`\n",
    "    - it's convenient to use conda env since I can choose the python version\n",
    "- `conda create --name tensorflow-14 \\\n",
    "    tensorflow-gpu=1.14 \\\n",
    "    python=3.7`"
   ]
  },
  {
   "cell_type": "markdown",
   "metadata": {
    "pycharm": {
     "name": "#%% md\n"
    }
   },
   "source": [
    "#### animation using `ipywidgets.Image`\n",
    "- `xvfb-run jupyter notebook`\n",
    "    - in order to suppress the pygame window of openai gym\n",
    "- the image is updated when `img_widget.value` is updated"
   ]
  },
  {
   "cell_type": "code",
   "execution_count": null,
   "metadata": {
    "pycharm": {
     "name": "#%%\n"
    }
   },
   "outputs": [],
   "source": [
    "import io\n",
    "import numpy as np\n",
    "\n",
    "import gym\n",
    "import highway_env\n",
    "\n",
    "import PIL\n",
    "from IPython.display import Image, display, clear_output, update_display\n",
    "import ipywidgets as widgets\n",
    "\n",
    "\n",
    "def png_from_array(img):\n",
    "    \"\"\"\n",
    "    png encoding from numpy array\n",
    "    \"\"\"\n",
    "    pil_img = PIL.Image.fromarray(img)\n",
    "\n",
    "    buffer = io.BytesIO()\n",
    "    pil_img.save(buffer, format='png')\n",
    "    \n",
    "    return bytes(buffer.getbuffer())\n",
    "\n",
    "\n",
    "env = gym.make('parking-v0')\n",
    "env.reset()\n",
    "\n",
    "img = env.render(mode='rgb_array')\n",
    "img_widget = widgets.Image(value=png_from_array(img), format='png', width=400)\n",
    "display(img_widget)\n",
    "\n",
    "for i in range(60 * 3):\n",
    "    env.step(np.random.rand(2) * 2 - 1)\n",
    "    img = env.render(mode='rgb_array')\n",
    "    img_widget.value = png_from_array(img)\n",
    "    "
   ]
  },
  {
   "cell_type": "markdown",
   "metadata": {
    "pycharm": {
     "name": "#%% md\n"
    }
   },
   "source": [
    "#### DDPG works on 'Parking-v0'?"
   ]
  },
  {
   "cell_type": "code",
   "execution_count": null,
   "metadata": {
    "pycharm": {
     "name": "#%%\n"
    }
   },
   "outputs": [],
   "source": [
    "import gym\n",
    "import numpy as np\n",
    "\n",
    "from stable_baselines3 import DDPG\n",
    "from stable_baselines3.common.noise import NormalActionNoise, OrnsteinUhlenbeckActionNoise\n",
    "\n",
    "env = gym.make(\"parking-v0\")\n",
    "\n",
    "# The noise objects for DDPG\n",
    "n_actions = env.action_space.shape[-1]\n",
    "action_noise = NormalActionNoise(mean=np.zeros(n_actions), sigma=0.1 * np.ones(n_actions))\n",
    "\n",
    "# what kind of Q and mu networks (and their targets) are employed?\n",
    "# \"MultiInputPolicy\" indicates topologies too?\n",
    "model = DDPG(\"MultiInputPolicy\", env, action_noise=action_noise, verbose=1)\n"
   ]
  },
  {
   "cell_type": "code",
   "execution_count": null,
   "metadata": {
    "pycharm": {
     "name": "#%%\n"
    }
   },
   "outputs": [],
   "source": [
    "model.learn(total_timesteps=10000, log_interval=10)\n",
    "# model.save(\"ddpg_pendulum\")\n",
    "# env = model.get_env()\n",
    "\n",
    "# del model # remove to demonstrate saving and loading\n",
    "\n",
    "# model = DDPG.load(\"ddpg_pendulum\")"
   ]
  },
  {
   "cell_type": "code",
   "execution_count": null,
   "metadata": {
    "pycharm": {
     "name": "#%%\n"
    }
   },
   "outputs": [],
   "source": [
    "from stable_baselines3 import HerReplayBuffer, DDPG, DQN, SAC, TD3\n",
    "from stable_baselines3.her.goal_selection_strategy import GoalSelectionStrategy\n",
    "from stable_baselines3.common.noise import NormalActionNoise\n",
    "\n",
    "env = gym.make(\"parking-v0\")\n",
    "\n",
    "n_actions = env.action_space.shape[0]\n",
    "noise_std = 0.2\n",
    "action_noise = NormalActionNoise(mean=np.zeros(n_actions), sigma=noise_std * np.ones(n_actions))\n",
    "\n",
    "n_sampled_goal = 4\n",
    "\n",
    "# Available strategies (cf paper): future, final, episode\n",
    "goal_selection_strategy = 'future' # equivalent to GoalSelectionStrategy.FUTURE\n",
    "\n",
    "# If True the HER transitions will get sampled online\n",
    "online_sampling = True\n",
    "\n",
    "# Time limit for the episodes\n",
    "max_episode_length = 100\n",
    "\n",
    "# SAC hyperparams:\n",
    "model = HER('MlpPolicy', env, SAC, n_sampled_goal=n_sampled_goal,\n",
    "            replay_buffer_class=HerReplayBuffer,\n",
    "            replay_buffer_kwargs=dict(n_sampled_goal=4,\n",
    "                                      goal_selection_strategy=goal_selection_strategy,\n",
    "                                      online_sampling=online_sampling,\n",
    "                                      max_episode_length=max_episode_length),\n",
    "           verbose=1)\n",
    "\n",
    "\n",
    "model.learn(int(100))"
   ]
  },
  {
   "cell_type": "code",
   "execution_count": 4,
   "metadata": {
    "pycharm": {
     "name": "#%%\n"
    }
   },
   "outputs": [
    {
     "ename": "NameError",
     "evalue": "name 'png_from_array' is not defined",
     "output_type": "error",
     "traceback": [
      "\u001b[0;31m---------------------------------------------------------------------------\u001b[0m",
      "\u001b[0;31mNameError\u001b[0m                                 Traceback (most recent call last)",
      "\u001b[0;32m/tmp/ipykernel_1195648/3331822439.py\u001b[0m in \u001b[0;36m<module>\u001b[0;34m\u001b[0m\n\u001b[1;32m      2\u001b[0m \u001b[0;34m\u001b[0m\u001b[0m\n\u001b[1;32m      3\u001b[0m \u001b[0mimg\u001b[0m \u001b[0;34m=\u001b[0m \u001b[0menv\u001b[0m\u001b[0;34m.\u001b[0m\u001b[0mrender\u001b[0m\u001b[0;34m(\u001b[0m\u001b[0mmode\u001b[0m\u001b[0;34m=\u001b[0m\u001b[0;34m'rgb_array'\u001b[0m\u001b[0;34m)\u001b[0m\u001b[0;34m\u001b[0m\u001b[0;34m\u001b[0m\u001b[0m\n\u001b[0;32m----> 4\u001b[0;31m \u001b[0mimg_widget\u001b[0m \u001b[0;34m=\u001b[0m \u001b[0mwidgets\u001b[0m\u001b[0;34m.\u001b[0m\u001b[0mImage\u001b[0m\u001b[0;34m(\u001b[0m\u001b[0mvalue\u001b[0m\u001b[0;34m=\u001b[0m\u001b[0mpng_from_array\u001b[0m\u001b[0;34m(\u001b[0m\u001b[0mimg\u001b[0m\u001b[0;34m)\u001b[0m\u001b[0;34m,\u001b[0m \u001b[0mformat\u001b[0m\u001b[0;34m=\u001b[0m\u001b[0;34m'png'\u001b[0m\u001b[0;34m,\u001b[0m \u001b[0mwidth\u001b[0m\u001b[0;34m=\u001b[0m\u001b[0;36m400\u001b[0m\u001b[0;34m)\u001b[0m\u001b[0;34m\u001b[0m\u001b[0;34m\u001b[0m\u001b[0m\n\u001b[0m\u001b[1;32m      5\u001b[0m \u001b[0mdisplay\u001b[0m\u001b[0;34m(\u001b[0m\u001b[0mimg_widget\u001b[0m\u001b[0;34m)\u001b[0m\u001b[0;34m\u001b[0m\u001b[0;34m\u001b[0m\u001b[0m\n\u001b[1;32m      6\u001b[0m \u001b[0;34m\u001b[0m\u001b[0m\n",
      "\u001b[0;31mNameError\u001b[0m: name 'png_from_array' is not defined"
     ]
    }
   ],
   "source": [
    "obs = env.reset()\n",
    "\n",
    "img = env.render(mode='rgb_array')\n",
    "img_widget = widgets.Image(value=png_from_array(img), format='png', width=400)\n",
    "display(img_widget)\n",
    "\n",
    "for _ in range(100):\n",
    "    action, _states = model.predict(obs)\n",
    "    obs, rewards, dones, info = env.step(action)\n",
    "#     env.render()\n",
    "    img = env.render(mode='rgb_array')\n",
    "    img_widget.value = png_from_array(img)\n",
    "\n",
    "    if dones:\n",
    "        break"
   ]
  },
  {
   "cell_type": "markdown",
   "metadata": {
    "pycharm": {
     "name": "#%% md\n"
    }
   },
   "source": [
    "#### exploration\n",
    "- in the action space\n",
    "    - $\\mathbf{a}_t = \\mu(s_t; \\theta_{\\mu}) + \\epsilon_t$, where $\\mu(s_t;\\theta_{\\mu}) $ is a controller output and $\\epsilon_t \\sim \\mathcal{N}(0, \\sigma^2) $\n",
    "- in the parameter space\n",
    "    - $\\mathbf{a}_t = \\mu(s_t; \\theta_{\\mu} + \\epsilon)$, where $\\epsilon \\sim \\mathcal{N}(0, \\sigma^2)$.\n",
    "- state dependent exloration (**SDE**)\n",
    "    - $\\mathbf{a}_t = \\mu(s_t; \\theta_{\\mu}) + \\epsilon(s_t, \\theta_{\\epsilon})$, where $\\theta_{\\epsilon} \\sim \\mathcal{N}(0, \\sigma^2)$\n",
    "    - $\\theta_{\\epsilon}$ remains the same for an episode."
   ]
  },
  {
   "cell_type": "markdown",
   "metadata": {},
   "source": [
    "#### stable-baselines3\n",
    "- some modules require `tensorflow==1.14` but it seems like `tensorflow==1.14` pypi package does not support the latest pip for python3.8\n",
    "- stable-baselines3 works with `python3.7+`\n",
    "    - it's convenient to use conda env since I can choose the python version\n",
    "- `conda create --name tensorflow-14 \\\n",
    "    tensorflow-gpu=1.14 \\\n",
    "    python=3.7`"
   ]
  },
  {
   "cell_type": "markdown",
   "metadata": {},
   "source": [
    "#### animation using `ipywidgets.Image`\n",
    "- `xvfb-run jupyter notebook`\n",
    "    - in order to suppress the pygame window of openai gym\n",
    "- the image is updated when `img_widget.value` is updated"
   ]
  },
  {
   "cell_type": "code",
   "execution_count": 15,
   "metadata": {},
   "outputs": [
    {
     "data": {
      "application/vnd.jupyter.widget-view+json": {
       "model_id": "b7d6a266498f4c29b6cadbcc135895f4",
       "version_major": 2,
       "version_minor": 0
      },
      "text/plain": [
       "Image(value=b'\\x89PNG\\r\\n\\x1a\\n\\x00\\x00\\x00\\rIHDR\\x00\\x00\\x02X\\x00\\x00\\x01,\\x08\\x02\\x00\\x00\\x00\\x90_Z\\xc1\\x00\\…"
      ]
     },
     "metadata": {},
     "output_type": "display_data"
    }
   ],
   "source": [
    "import io\n",
    "import numpy as np\n",
    "\n",
    "import gym\n",
    "import highway_env\n",
    "\n",
    "import PIL\n",
    "from IPython.display import Image, display, clear_output, update_display\n",
    "import ipywidgets as widgets\n",
    "\n",
    "\n",
    "def png_from_array(img):\n",
    "    \"\"\"\n",
    "    png encoding from numpy array\n",
    "    \"\"\"\n",
    "    pil_img = PIL.Image.fromarray(img)\n",
    "\n",
    "    buffer = io.BytesIO()\n",
    "    pil_img.save(buffer, format='png')\n",
    "    \n",
    "    return bytes(buffer.getbuffer())\n",
    "\n",
    "\n",
    "env = gym.make('parking-v0')\n",
    "env.reset()\n",
    "\n",
    "img = env.render(mode='rgb_array')\n",
    "img_widget = widgets.Image(value=png_from_array(img), format='png', width=400)\n",
    "display(img_widget)\n",
    "\n",
    "for i in range(60 * 3):\n",
    "    env.step(np.random.rand(2) * 2 - 1)\n",
    "    img = env.render(mode='rgb_array')\n",
    "    img_widget.value = png_from_array(img)\n",
    "    "
   ]
  },
  {
   "cell_type": "code",
   "execution_count": 16,
   "metadata": {},
   "outputs": [
    {
     "name": "stdout",
     "output_type": "stream",
     "text": [
      "Using cuda device\n",
      "Wrapping the env with a `Monitor` wrapper\n",
      "Wrapping the env in a DummyVecEnv.\n"
     ]
    }
   ],
   "source": [
    "import gym\n",
    "import numpy as np\n",
    "\n",
    "from stable_baselines3 import DDPG\n",
    "from stable_baselines3.common.noise import NormalActionNoise, OrnsteinUhlenbeckActionNoise\n",
    "\n",
    "env = gym.make(\"parking-v0\")\n",
    "\n",
    "# The noise objects for DDPG\n",
    "n_actions = env.action_space.shape[-1]\n",
    "action_noise = NormalActionNoise(mean=np.zeros(n_actions), sigma=0.1 * np.ones(n_actions))\n",
    "\n",
    "# what kind of Q and mu networks (and their targets) are employed?\n",
    "# \"MultiInputPolicy\" indicates topologies too?\n",
    "model = DDPG(\"MultiInputPolicy\", env, action_noise=action_noise, verbose=1)\n"
   ]
  },
  {
   "cell_type": "code",
   "execution_count": 17,
   "metadata": {},
   "outputs": [
    {
     "name": "stdout",
     "output_type": "stream",
     "text": [
      "---------------------------------\n",
      "| rollout/           |          |\n",
      "|    ep_len_mean     | 100      |\n",
      "|    ep_rew_mean     | -72      |\n",
      "|    success_rate    | 0        |\n",
      "| time/              |          |\n",
      "|    episodes        | 10       |\n",
      "|    fps             | 74       |\n",
      "|    time_elapsed    | 13       |\n",
      "|    total_timesteps | 1000     |\n",
      "| train/             |          |\n",
      "|    actor_loss      | 2.93     |\n",
      "|    critic_loss     | 0.109    |\n",
      "|    learning_rate   | 0.001    |\n",
      "|    n_updates       | 800      |\n",
      "---------------------------------\n",
      "---------------------------------\n",
      "| rollout/           |          |\n",
      "|    ep_len_mean     | 100      |\n",
      "|    ep_rew_mean     | -67      |\n",
      "|    success_rate    | 0        |\n",
      "| time/              |          |\n",
      "|    episodes        | 20       |\n",
      "|    fps             | 72       |\n",
      "|    time_elapsed    | 27       |\n",
      "|    total_timesteps | 2000     |\n",
      "| train/             |          |\n",
      "|    actor_loss      | 3.45     |\n",
      "|    critic_loss     | 0.121    |\n",
      "|    learning_rate   | 0.001    |\n",
      "|    n_updates       | 1800     |\n",
      "---------------------------------\n",
      "---------------------------------\n",
      "| rollout/           |          |\n",
      "|    ep_len_mean     | 100      |\n",
      "|    ep_rew_mean     | -67.1    |\n",
      "|    success_rate    | 0        |\n",
      "| time/              |          |\n",
      "|    episodes        | 30       |\n",
      "|    fps             | 72       |\n",
      "|    time_elapsed    | 41       |\n",
      "|    total_timesteps | 3000     |\n",
      "| train/             |          |\n",
      "|    actor_loss      | 4.68     |\n",
      "|    critic_loss     | 0.203    |\n",
      "|    learning_rate   | 0.001    |\n",
      "|    n_updates       | 2800     |\n",
      "---------------------------------\n",
      "---------------------------------\n",
      "| rollout/           |          |\n",
      "|    ep_len_mean     | 100      |\n",
      "|    ep_rew_mean     | -64.9    |\n",
      "|    success_rate    | 0        |\n",
      "| time/              |          |\n",
      "|    episodes        | 40       |\n",
      "|    fps             | 71       |\n",
      "|    time_elapsed    | 55       |\n",
      "|    total_timesteps | 4000     |\n",
      "| train/             |          |\n",
      "|    actor_loss      | 5.96     |\n",
      "|    critic_loss     | 0.238    |\n",
      "|    learning_rate   | 0.001    |\n",
      "|    n_updates       | 3800     |\n",
      "---------------------------------\n",
      "---------------------------------\n",
      "| rollout/           |          |\n",
      "|    ep_len_mean     | 100      |\n",
      "|    ep_rew_mean     | -64.8    |\n",
      "|    success_rate    | 0        |\n",
      "| time/              |          |\n",
      "|    episodes        | 50       |\n",
      "|    fps             | 72       |\n",
      "|    time_elapsed    | 69       |\n",
      "|    total_timesteps | 5000     |\n",
      "| train/             |          |\n",
      "|    actor_loss      | 7.42     |\n",
      "|    critic_loss     | 0.405    |\n",
      "|    learning_rate   | 0.001    |\n",
      "|    n_updates       | 4800     |\n",
      "---------------------------------\n",
      "---------------------------------\n",
      "| rollout/           |          |\n",
      "|    ep_len_mean     | 100      |\n",
      "|    ep_rew_mean     | -63.4    |\n",
      "|    success_rate    | 0        |\n",
      "| time/              |          |\n",
      "|    episodes        | 60       |\n",
      "|    fps             | 71       |\n",
      "|    time_elapsed    | 83       |\n",
      "|    total_timesteps | 6000     |\n",
      "| train/             |          |\n",
      "|    actor_loss      | 8.37     |\n",
      "|    critic_loss     | 0.488    |\n",
      "|    learning_rate   | 0.001    |\n",
      "|    n_updates       | 5800     |\n",
      "---------------------------------\n",
      "---------------------------------\n",
      "| rollout/           |          |\n",
      "|    ep_len_mean     | 100      |\n",
      "|    ep_rew_mean     | -62.1    |\n",
      "|    success_rate    | 0        |\n",
      "| time/              |          |\n",
      "|    episodes        | 70       |\n",
      "|    fps             | 72       |\n",
      "|    time_elapsed    | 97       |\n",
      "|    total_timesteps | 7000     |\n",
      "| train/             |          |\n",
      "|    actor_loss      | 9.07     |\n",
      "|    critic_loss     | 0.487    |\n",
      "|    learning_rate   | 0.001    |\n",
      "|    n_updates       | 6800     |\n",
      "---------------------------------\n",
      "---------------------------------\n",
      "| rollout/           |          |\n",
      "|    ep_len_mean     | 100      |\n",
      "|    ep_rew_mean     | -61.2    |\n",
      "|    success_rate    | 0        |\n",
      "| time/              |          |\n",
      "|    episodes        | 80       |\n",
      "|    fps             | 72       |\n",
      "|    time_elapsed    | 110      |\n",
      "|    total_timesteps | 8000     |\n",
      "| train/             |          |\n",
      "|    actor_loss      | 9.7      |\n",
      "|    critic_loss     | 0.591    |\n",
      "|    learning_rate   | 0.001    |\n",
      "|    n_updates       | 7800     |\n",
      "---------------------------------\n",
      "---------------------------------\n",
      "| rollout/           |          |\n",
      "|    ep_len_mean     | 100      |\n",
      "|    ep_rew_mean     | -60.6    |\n",
      "|    success_rate    | 0        |\n",
      "| time/              |          |\n",
      "|    episodes        | 90       |\n",
      "|    fps             | 72       |\n",
      "|    time_elapsed    | 123      |\n",
      "|    total_timesteps | 9000     |\n",
      "| train/             |          |\n",
      "|    actor_loss      | 9.87     |\n",
      "|    critic_loss     | 0.61     |\n",
      "|    learning_rate   | 0.001    |\n",
      "|    n_updates       | 8800     |\n",
      "---------------------------------\n",
      "---------------------------------\n",
      "| rollout/           |          |\n",
      "|    ep_len_mean     | 99.9     |\n",
      "|    ep_rew_mean     | -59.5    |\n",
      "|    success_rate    | 0.01     |\n",
      "| time/              |          |\n",
      "|    episodes        | 100      |\n",
      "|    fps             | 72       |\n",
      "|    time_elapsed    | 137      |\n",
      "|    total_timesteps | 9987     |\n",
      "| train/             |          |\n",
      "|    actor_loss      | 9.82     |\n",
      "|    critic_loss     | 0.594    |\n",
      "|    learning_rate   | 0.001    |\n",
      "|    n_updates       | 9800     |\n",
      "---------------------------------\n"
     ]
    },
    {
     "data": {
      "text/plain": [
       "<stable_baselines3.ddpg.ddpg.DDPG at 0x7f1dc37c18d0>"
      ]
     },
     "execution_count": 17,
     "metadata": {},
     "output_type": "execute_result"
    }
   ],
   "source": [
    "model.learn(total_timesteps=10000, log_interval=10)\n",
    "# model.save(\\\"ddpg_pendulum\\\")\n",
    "# env = model.get_env()\n",
    "\n",
    "# del model # remove to demonstrate saving and loading\n",
    "\n",
    "# model = DDPG.load(\"ddpg_pendulum\")"
   ]
  },
  {
   "cell_type": "code",
   "execution_count": 23,
   "metadata": {},
   "outputs": [
    {
     "name": "stdout",
     "output_type": "stream",
     "text": [
      "Using cuda device\n",
      "Wrapping the env with a `Monitor` wrapper\n",
      "Wrapping the env in a DummyVecEnv.\n"
     ]
    },
    {
     "data": {
      "text/plain": [
       "<stable_baselines3.ddpg.ddpg.DDPG at 0x7f1da038df50>"
      ]
     },
     "execution_count": 23,
     "metadata": {},
     "output_type": "execute_result"
    }
   ],
   "source": [
    "from stable_baselines3 import HerReplayBuffer, DDPG, DQN, SAC, TD3\n",
    "from stable_baselines3.her.goal_selection_strategy import GoalSelectionStrategy\n",
    "from stable_baselines3.common.noise import NormalActionNoise\n",
    "\n",
    "env = gym.make(\"parking-v0\")\n",
    "\n",
    "n_actions = env.action_space.shape[0]\n",
    "noise_std = 0.2\n",
    "action_noise = NormalActionNoise(mean=np.zeros(n_actions), sigma=noise_std * np.ones(n_actions))\n",
    "\n",
    "n_sampled_goal = 4\n",
    "\n",
    "# Available strategies (cf paper): future, final, episode\n",
    "goal_selection_strategy = 'future' # equivalent to GoalSelectionStrategy.FUTURE\n",
    "\n",
    "# If True the HER transitions will get sampled online\n",
    "online_sampling = True\n",
    "\n",
    "# Time limit for the episodes\n",
    "max_episode_length = 100\n",
    "\n",
    "# SAC hyperparams:\n",
    "model = DDPG(\"MultiInputPolicy\",\n",
    "            env,\n",
    "            replay_buffer_class=HerReplayBuffer,\n",
    "            replay_buffer_kwargs=dict(\n",
    "                n_sampled_goal=4,\n",
    "                goal_selection_strategy=goal_selection_strategy,\n",
    "                online_sampling=online_sampling,\n",
    "                max_episode_length=max_episode_length),\n",
    "           verbose=1)\n",
    "\n",
    "\n",
    "model.learn(int(100))"
   ]
  },
  {
   "cell_type": "code",
   "execution_count": 24,
   "metadata": {},
   "outputs": [
    {
     "data": {
      "application/vnd.jupyter.widget-view+json": {
       "model_id": "997ae43556cc4921a6483269f489bdbf",
       "version_major": 2,
       "version_minor": 0
      },
      "text/plain": [
       "Image(value=b'\\x89PNG\\r\\n\\x1a\\n\\x00\\x00\\x00\\rIHDR\\x00\\x00\\x02X\\x00\\x00\\x01,\\x08\\x02\\x00\\x00\\x00\\x90_Z\\xc1\\x00\\…"
      ]
     },
     "metadata": {},
     "output_type": "display_data"
    }
   ],
   "source": [
    "obs = env.reset()\n",
    "\n",
    "img = env.render(mode='rgb_array')\n",
    "img_widget = widgets.Image(value=png_from_array(img), format='png', width=400)\n",
    "display(img_widget)\n",
    "\n",
    "for _ in range(100):\n",
    "    action, _states = model.predict(obs)\n",
    "    obs, rewards, dones, info = env.step(action)\n",
    "\n",
    "    img = env.render(mode='rgb_array')\n",
    "    img_widget.value = png_from_array(img)\n",
    "\n",
    "    if dones:\n",
    "        break"
   ]
  },
  {
   "cell_type": "markdown",
   "metadata": {},
   "source": [
    "### MountainCar-v0\n",
    "- discrete action `Discrete(3)`\n",
    "- observatin space is `Box([-1.2, -0.07], [0.6, 0.07], (2,), float32)`\n",
    "    - (left bottom) and (right top)\n",
    "- VPG, A2C, DQN can be employed\n",
    "- state-space representation like\n",
    "    - $ \\left[ \\begin{matrix} x_{k+1} \\\\ v_{k+1} \\end{matrix} \\right] = \\left[ \\begin{matrix} 1 & \\Delta \\\\ 0 & 1 \\end{matrix} \\right] \\left[ \\begin{matrix} x_k \\\\ v_k \\end{matrix} \\right] + \\left[ \\begin{matrix} \\Delta / 2 \\\\ 1 \\end{matrix} \\right] u $\n",
    "    - \n",
    "\n",
    "<br/>\n",
    "\n",
    "#### DQN on MountainCar-v0\n",
    "- off-policy learning\n",
    "    - replay buffer\n",
    "- $\\epsilon$-greedy policy is good?"
   ]
  },
  {
   "cell_type": "code",
   "execution_count": 222,
   "metadata": {},
   "outputs": [],
   "source": [
    "import random\n",
    "\n",
    "import torch\n",
    "import torch.nn as nn\n",
    "import torch.nn.functional as F\n",
    "import torch.optim as optim\n",
    "\n",
    "\n",
    "class MyDQN(nn.Module):\n",
    "    \"\"\"\n",
    "    off-policy learning\n",
    "    \n",
    "    replay buffer\n",
    "    epsilon-greedy policy\n",
    "    \n",
    "    max episode length = 100\n",
    "    one batch training for a new episode?\n",
    "    \n",
    "    minimize TD-error\n",
    "    \"\"\"\n",
    "    def __init__(self):\n",
    "        super().__init__()\n",
    "        \n",
    "        self.l1 = nn.Linear(2, 128)\n",
    "        self.l2 = nn.Linear(128, 128)\n",
    "        self.l3 = nn.Linear(128, 3)\n",
    "        \n",
    "        self.do = nn.Dropout(0.5)\n",
    "        self.loss_fn = nn.MSELoss()\n",
    "        self.optimizer = optim.Adam(self.parameters())\n",
    "        \n",
    "        # (s, a, r, s', done)\n",
    "        self.replay_buffer = []\n",
    "        self.states = []\n",
    "    \n",
    "    def forward(self, x):\n",
    "        x = self.do(F.relu(self.l1(x)))\n",
    "        x = self.do(F.relu(self.l2(x)))\n",
    "        x = F.relu(self.l3(x))\n",
    "        \n",
    "        return x\n",
    "    \n",
    "    def action(self, states):\n",
    "        \"\"\"\n",
    "        epsilon-greedy policy\n",
    "        \"\"\"\n",
    "        if np.random.rand() < 0.1:\n",
    "            return np.random.choice(3)\n",
    "        \n",
    "        _, action = torch.max(self(torch.unsqueeze(states, dim=0)), axis=-1)\n",
    "        return action.item()\n",
    "\n",
    "    @torch.no_grad()\n",
    "    def rollout(self, widget=None):\n",
    "        self.eval()\n",
    "        s = env.reset()\n",
    "        \n",
    "#         if self.states:\n",
    "#         init_state = env.observation_space.sample()\n",
    "#             idx = np.argmin([np.linalg.norm(state - random_sample) for state in self.states])\n",
    "#             env.unwrapped.state = self.states[idx]\n",
    "#         env.unwrapped.state = init_state\n",
    "        \n",
    "        done = False\n",
    "        while not done:\n",
    "            a = self.action(torch.Tensor(s).unsqueeze(dim=0))\n",
    "            sp, r, done, info = env.step(a)\n",
    "            self.replay_buffer.append((s, a, r, sp, done))\n",
    "            self.states.append(sp)\n",
    "            \n",
    "            if widget:\n",
    "                img = env.render(mode='rgb_array')\n",
    "                pil_img = PIL.Image.fromarray(img)\n",
    "                buffer = io.BytesIO()\n",
    "                pil_img.save(buffer, 'png')\n",
    "                widget.value = bytes(buffer.getbuffer())\n",
    "        \n",
    "        if not info:\n",
    "            print('success')\n",
    "            raise ValueError(f'sucess r={r}, sp={sp}, info={info}')\n",
    "        \n",
    "        random.shuffle(self.replay_buffer)\n",
    "        self.replay_buffer = self.replay_buffer[:10000]\n",
    "        \n",
    "        random.shuffle(self.states)\n",
    "        self.states = self.states[:10000]\n",
    "\n",
    "    def train_epoch(self):\n",
    "        self.train()\n",
    "        \n",
    "        for x in range(len(self.replay_buffer) // 32):\n",
    "            batch = self.replay_buffer[32 * x:32 * (x + 1)]\n",
    "\n",
    "            # ||Q_w(s, a) - r + gamma * (1 - done) * max_a' Q_w(s', a')||^2\n",
    "            s, a, r, sp, done = zip(*batch)\n",
    "            s = torch.Tensor(s).detach()\n",
    "            r = torch.Tensor(r)\n",
    "            sp = torch.Tensor(sp)\n",
    "            done = torch.Tensor(done)\n",
    "\n",
    "            # old action values\n",
    "            q = self(s)\n",
    "\n",
    "            # one-step look ahead\n",
    "            ne = r + torch.where(done > 0.5,\n",
    "                                 0.99 * torch.max(self(sp), axis=-1)[0], \n",
    "                                 torch.zeros(len(batch)))\n",
    "            \n",
    "            # what does exactly clone do?\n",
    "            target = q.clone()\n",
    "            target[range(32), a] = ne\n",
    "\n",
    "            # q -> target\n",
    "            loss = self.loss_fn(q, target.detach())\n",
    "            loss.backward()\n",
    "            self.optimizer.step()\n",
    "            self.optimizer.zero_grad()\n"
   ]
  },
  {
   "cell_type": "code",
   "execution_count": 210,
   "metadata": {},
   "outputs": [
    {
     "data": {
      "application/vnd.jupyter.widget-view+json": {
       "model_id": "b9ed4969017e4ba092dde6ec4c434c6f",
       "version_major": 2,
       "version_minor": 0
      },
      "text/plain": [
       "Image(value=b'\\x89PNG\\r\\n\\x1a\\n\\x00\\x00\\x00\\rIHDR\\x00\\x00\\x02X\\x00\\x00\\x01\\x90\\x08\\x02\\x00\\x00\\x00\\xfdW\\x89\\xc…"
      ]
     },
     "metadata": {},
     "output_type": "display_data"
    }
   ],
   "source": [
    "import io\n",
    "\n",
    "import gym\n",
    "import PIL\n",
    "import ipywidgets.widgets as widgets\n",
    "\n",
    "# action_space\n",
    "# 0 -> no acceleration, 1 -> accelerate to the left, 2 -> accelerate to the right\n",
    "# observation_space\n",
    "# \n",
    "env = gym.make('MountainCar-v0')\n",
    "env.reset()\n",
    "\n",
    "img = env.render(mode='rgb_array')\n",
    "pil_img = PIL.Image.fromarray(img)\n",
    "buffer = io.BytesIO()\n",
    "pil_img.save(buffer, 'png')\n",
    "\n",
    "mountain_car_widget = widgets.Image(\n",
    "    value=bytes(buffer.getbuffer()),\n",
    "    format='png',\n",
    "    width=300\n",
    ")\n",
    "\n",
    "mountain_car_widget"
   ]
  },
  {
   "cell_type": "code",
   "execution_count": 223,
   "metadata": {},
   "outputs": [],
   "source": [
    "dqn = MyDQN()"
   ]
  },
  {
   "cell_type": "code",
   "execution_count": 225,
   "metadata": {},
   "outputs": [],
   "source": [
    "for i in range(100):\n",
    "    dqn.rollout(widget=mountain_car_widget)\n",
    "#     dqn.train_epoch()\n"
   ]
  },
  {
   "cell_type": "code",
   "execution_count": 226,
   "metadata": {},
   "outputs": [
    {
     "data": {
      "text/plain": [
       "Text(0, 0.5, 'velocity')"
      ]
     },
     "execution_count": 226,
     "metadata": {},
     "output_type": "execute_result"
    },
    {
     "data": {
      "image/png": "[encoded data removed]",
      "text/plain": [
       "<Figure size 432x288 with 1 Axes>"
      ]
     },
     "metadata": {},
     "output_type": "display_data"
    }
   ],
   "source": [
    "import numpy.linalg\n",
    "import matplotlib.pyplot as plt\n",
    "\n",
    "\n",
    "fig, ax = plt.subplots()\n",
    "\n",
    "ax.scatter([x[0] for x in dqn.states],\n",
    "           [x[1] for x in dqn.states], s=4)\n",
    "\n",
    "ax.set_xlabel('position')\n",
    "ax.set_ylabel('velocity')\n",
    "# random_sample = np.asarray([0.4, 0.5])\n",
    "\n",
    "# idx = np.argmin([np.linalg.norm(state - random_sample) for state in dqn.states])\n",
    "# print(dqn.states[idx])"
   ]
  },
  {
   "cell_type": "code",
   "execution_count": 39,
   "metadata": {},
   "outputs": [
    {
     "data": {
      "text/plain": [
       "<matplotlib.collections.PathCollection at 0x7f82c89192d0>"
      ]
     },
     "execution_count": 39,
     "metadata": {},
     "output_type": "execute_result"
    },
    {
     "data": {
      "image/png": "[encoded data removed]",
      "text/plain": [
       "<Figure size 432x288 with 1 Axes>"
      ]
     },
     "metadata": {},
     "output_type": "display_data"
    }
   ],
   "source": [
    "import matplotlib.pyplot as plt\n",
    "\n",
    "\n",
    "states = [env.observation_space.sample() for _ in range(200)]\n",
    "\n",
    "fig, ax = plt.subplots()\n",
    "ax.scatter([x[0] for x in states],\n",
    "           [x[1] for x in states])"
   ]
  },
  {
   "cell_type": "markdown",
   "metadata": {},
   "source": [
    "#### value iterations\n",
    "- Even though the state space of the MountainCar-v0 is continuous, the value iteration technique might work using a neural net action value function.\n",
    "- one nice thing is that a state space is randomly sampled.\n",
    "- "
   ]
  }
 ],
 "metadata": {
  "kernelspec": {
   "display_name": "Python 3 (ipykernel)",
   "language": "python",
   "name": "python3"
  },
  "language_info": {
   "codemirror_mode": {
    "name": "ipython",
    "version": 3
   },
   "file_extension": ".py",
   "mimetype": "text/x-python",
   "name": "python",
   "nbconvert_exporter": "python",
   "pygments_lexer": "ipython3",
   "version": "3.7.13"
  }
 },
 "nbformat": 4,
 "nbformat_minor": 1
}
